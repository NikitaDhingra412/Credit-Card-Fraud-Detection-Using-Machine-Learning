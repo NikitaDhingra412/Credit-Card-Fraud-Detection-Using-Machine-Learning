{
 "cells": [
  {
   "cell_type": "markdown",
   "id": "f11089a3-6b2d-4388-beef-f51082c21e9f",
   "metadata": {},
   "source": [
    "# Credit Card Fraud Detection"
   ]
  },
  {
   "cell_type": "markdown",
   "id": "a102cc3c-4b0e-4b39-9e05-ddb8e50478a6",
   "metadata": {},
   "source": [
    "### 1. Imports & Setup\n",
    "We import all necessary libraries:\n",
    "\n",
    "- `numpy` and `pandas` for data handling.\n",
    "- `matplotlib` and `seaborn` for visualization.\n",
    "- `scikit-learn` for machine learning models, preprocessing, and metrics.\n",
    "- `imbalanced-learn (SMOTE)` to handle extreme class imbalance.\n",
    "- `joblib` to save and load trained models.\n",
    "- Optional: `XGBoost` for gradient boosting classifier."
   ]
  },
  {
   "cell_type": "code",
   "execution_count": 2,
   "id": "ea8c696c-e15f-4eb5-97e4-2079f17e8f49",
   "metadata": {},
   "outputs": [],
   "source": [
    "import os\n",
    "import numpy as np\n",
    "import pandas as pd\n",
    "import matplotlib.pyplot as plt\n",
    "import seaborn as sns\n",
    "import warnings\n",
    "warnings.filterwarnings('ignore')\n",
    "\n",
    "from sklearn.model_selection import train_test_split\n",
    "from sklearn.preprocessing import StandardScaler\n",
    "from sklearn.pipeline import Pipeline\n",
    "from sklearn.linear_model import LogisticRegression\n",
    "from sklearn.ensemble import RandomForestClassifier\n",
    "from sklearn.metrics import (\n",
    "    classification_report, confusion_matrix, roc_auc_score,\n",
    "    precision_recall_curve, auc, RocCurveDisplay, PrecisionRecallDisplay,\n",
    "    precision_score, recall_score, f1_score\n",
    ")\n",
    "from imblearn.over_sampling import SMOTE\n",
    "from imblearn.pipeline import Pipeline as ImbPipeline\n",
    "import joblib\n",
    "\n",
    "# Optional: XGBoost\n",
    "try:\n",
    "    from xgboost import XGBClassifier\n",
    "    XGB_AVAILABLE = True\n",
    "except ImportError:\n",
    "    XGB_AVAILABLE = False"
   ]
  },
  {
   "cell_type": "markdown",
   "id": "e9065903-5b88-4a43-98cd-113d66736345",
   "metadata": {},
   "source": [
    "### 2. Configuration\n",
    "We define:\n",
    "\n",
    "- `RANDOM_STATE`: for reproducibility.\n",
    "- `DATA_PATH`: path to the dataset.\n",
    "- `TEST_SIZE`: proportion of data for testing (20% here).\n",
    "- `MODEL_OUTPUT`: filename to save the trained model."
   ]
  },
  {
   "cell_type": "code",
   "execution_count": 4,
   "id": "6ff6b52e-b4ac-4a56-865f-0e303166a723",
   "metadata": {},
   "outputs": [],
   "source": [
    "RANDOM_STATE = 42\n",
    "DATA_PATH = r\"C:\\Users\\Dell\\Credit Card Default\\creditcard.csv\"\n",
    "TEST_SIZE = 0.2\n",
    "MODEL_OUTPUT = \"final_fraud_model.pkl\""
   ]
  },
  {
   "cell_type": "markdown",
   "id": "4737b61a-1b1d-465e-bd1e-3e91079bea17",
   "metadata": {},
   "source": [
    "### 3. Load Data\n",
    "\n",
    "We load the dataset using `pd.read_csv` and inspect the shape and first few rows.\n",
    "\n",
    "Dataset contains 284,807 transactions with 30 columns: `Time`, `V1`-`V28` (PCA features), `Amount`, and `Class` (target)."
   ]
  },
  {
   "cell_type": "code",
   "execution_count": 5,
   "id": "d6498c35-f3ac-4efb-a5ac-c9ad8d311908",
   "metadata": {},
   "outputs": [
    {
     "name": "stdout",
     "output_type": "stream",
     "text": [
      "Loading dataset...\n",
      "Shape: (284807, 31)\n",
      "   Time        V1        V2        V3        V4        V5        V6        V7  \\\n",
      "0   0.0 -1.359807 -0.072781  2.536347  1.378155 -0.338321  0.462388  0.239599   \n",
      "1   0.0  1.191857  0.266151  0.166480  0.448154  0.060018 -0.082361 -0.078803   \n",
      "2   1.0 -1.358354 -1.340163  1.773209  0.379780 -0.503198  1.800499  0.791461   \n",
      "3   1.0 -0.966272 -0.185226  1.792993 -0.863291 -0.010309  1.247203  0.237609   \n",
      "4   2.0 -1.158233  0.877737  1.548718  0.403034 -0.407193  0.095921  0.592941   \n",
      "\n",
      "         V8        V9  ...       V21       V22       V23       V24       V25  \\\n",
      "0  0.098698  0.363787  ... -0.018307  0.277838 -0.110474  0.066928  0.128539   \n",
      "1  0.085102 -0.255425  ... -0.225775 -0.638672  0.101288 -0.339846  0.167170   \n",
      "2  0.247676 -1.514654  ...  0.247998  0.771679  0.909412 -0.689281 -0.327642   \n",
      "3  0.377436 -1.387024  ... -0.108300  0.005274 -0.190321 -1.175575  0.647376   \n",
      "4 -0.270533  0.817739  ... -0.009431  0.798278 -0.137458  0.141267 -0.206010   \n",
      "\n",
      "        V26       V27       V28  Amount  Class  \n",
      "0 -0.189115  0.133558 -0.021053  149.62      0  \n",
      "1  0.125895 -0.008983  0.014724    2.69      0  \n",
      "2 -0.139097 -0.055353 -0.059752  378.66      0  \n",
      "3 -0.221929  0.062723  0.061458  123.50      0  \n",
      "4  0.502292  0.219422  0.215153   69.99      0  \n",
      "\n",
      "[5 rows x 31 columns]\n"
     ]
    }
   ],
   "source": [
    "print(\"Loading dataset...\")\n",
    "df = pd.read_csv(DATA_PATH)\n",
    "print(\"Shape:\", df.shape)\n",
    "print(df.head())"
   ]
  },
  {
   "cell_type": "markdown",
   "id": "82eb4b4a-f045-419c-b523-94e546a78bc7",
   "metadata": {},
   "source": [
    "### 4. Exploratory Data Analysis (EDA)"
   ]
  },
  {
   "cell_type": "code",
   "execution_count": 6,
   "id": "e3b7a19e-487c-4980-ba9b-8d9f426d192d",
   "metadata": {},
   "outputs": [
    {
     "name": "stdout",
     "output_type": "stream",
     "text": [
      "\n",
      "Class distribution:\n",
      "Class\n",
      "0    284315\n",
      "1       492\n",
      "Name: count, dtype: int64\n",
      "\n",
      "Class distribution (percent):\n",
      "Class\n",
      "0    99.827251\n",
      "1     0.172749\n",
      "Name: proportion, dtype: float64\n",
      "\n",
      "Amount stats:\n",
      "count    284807.000000\n",
      "mean         88.349619\n",
      "std         250.120109\n",
      "min           0.000000\n",
      "25%           5.600000\n",
      "50%          22.000000\n",
      "75%          77.165000\n",
      "max       25691.160000\n",
      "Name: Amount, dtype: float64\n"
     ]
    },
    {
     "data": {
      "image/png": "[encoded data removed]",
      "text/plain": [
       "<Figure size 500x400 with 1 Axes>"
      ]
     },
     "metadata": {},
     "output_type": "display_data"
    }
   ],
   "source": [
    "print(\"\\nClass distribution:\")\n",
    "print(df['Class'].value_counts())\n",
    "print(\"\\nClass distribution (percent):\")\n",
    "print(df['Class'].value_counts(normalize=True) * 100)\n",
    "\n",
    "# Amount stats\n",
    "print(\"\\nAmount stats:\")\n",
    "print(df['Amount'].describe())\n",
    "\n",
    "# Plot class counts\n",
    "plt.figure(figsize=(5,4))\n",
    "sns.countplot(x='Class', data=df)\n",
    "plt.title(\"Class Counts (0=legit, 1=fraud)\")\n",
    "plt.show()"
   ]
  },
  {
   "cell_type": "markdown",
   "id": "7cbfb4b0-ea42-4692-a4e5-d8c7fb56e12c",
   "metadata": {},
   "source": [
    "### Class Distribution:\n",
    "- Legitimate transactions (Class 0): 284,315 → 99.83%\n",
    "- Fraudulent transactions (Class 1): 492 → 0.17%\n",
    "\n",
    "This is an **extremely imbalanced dataset**, so special handling (SMOTE or class weights) is required.\n",
    "\n",
    "### Amount Statistics:\n",
    "- Mean = 88.35, Median = 22 → right-skewed distribution.\n",
    "- Max transaction = 25,691.16 → outliers present.\n",
    "- Scaling is necessary for model stability.\n",
    "\n",
    "### Visualization:\n",
    "- Bar plot shows class imbalance clearly."
   ]
  },
  {
   "cell_type": "markdown",
   "id": "feadfade-15a9-4708-a52c-648f64bf7c5a",
   "metadata": {},
   "source": [
    "### 5. Preprocessing\n",
    "- Features (`X`) = all columns except `Class`.\n",
    "- Target (`y`) = `Class`.\n",
    "- `Time` column is dropped as it is not directly predictive.\n",
    "- Train-test split (80-20) with `stratify=y` to maintain class ratio."
   ]
  },
  {
   "cell_type": "code",
   "execution_count": 7,
   "id": "09d817e6-9b82-42e7-899e-d3a72ebd2139",
   "metadata": {},
   "outputs": [
    {
     "name": "stdout",
     "output_type": "stream",
     "text": [
      "Train shape: (227845, 29)  Test shape: (56962, 29)\n"
     ]
    }
   ],
   "source": [
    "X = df.drop(columns=['Class'])\n",
    "y = df['Class']\n",
    "\n",
    "# Drop Time column\n",
    "if 'Time' in X.columns:\n",
    "    X = X.drop(columns=['Time'])\n",
    "\n",
    "# Train-test split (stratified)\n",
    "X_train, X_test, y_train, y_test = train_test_split(\n",
    "    X, y, test_size=TEST_SIZE, stratify=y, random_state=RANDOM_STATE\n",
    ")\n",
    "print(f\"Train shape: {X_train.shape}  Test shape: {X_test.shape}\")"
   ]
  },
  {
   "cell_type": "markdown",
   "id": "7af161f6-0606-4817-8a0c-d6306883834b",
   "metadata": {},
   "source": [
    "Train set: 227,845 rows  \n",
    "Test set: 56,962 rows"
   ]
  },
  {
   "cell_type": "markdown",
   "id": "0df543b3-b18a-4455-a942-b2cc5e1c411d",
   "metadata": {},
   "source": [
    "### 6. Pipeline with SMOTE\n",
    "We define a pipeline to handle preprocessing and imbalance:\n",
    "\n",
    "1. `StandardScaler` → scales all features for uniform range.\n",
    "2. `SMOTE` → oversamples the minority class (fraud) in the training set.\n",
    "3. Classifier (`LogisticRegression`, `RandomForest`, optional `XGBoost`).\n",
    "\n",
    "This ensures synthetic fraud samples are only used during training."
   ]
  },
  {
   "cell_type": "code",
   "execution_count": 9,
   "id": "4a954cb9-bb9c-40cb-b5ca-7aee24db18c6",
   "metadata": {},
   "outputs": [],
   "source": [
    "def make_pipeline(clf):\n",
    "    \"\"\"Creates a pipeline: scaler -> SMOTE -> classifier\"\"\"\n",
    "    return ImbPipeline([\n",
    "        ('scaler', StandardScaler()),\n",
    "        ('smote', SMOTE(random_state=RANDOM_STATE)),  # fixed\n",
    "        ('clf', clf)\n",
    "    ])\n",
    "\n",
    "# Define classifiers\n",
    "models = {\n",
    "    \"LogisticRegression\": make_pipeline(LogisticRegression(max_iter=1000, random_state=RANDOM_STATE)),\n",
    "    \"RandomForest\": make_pipeline(RandomForestClassifier(n_estimators=100, random_state=RANDOM_STATE, n_jobs=-1))\n",
    "}\n"
   ]
  },
  {
   "cell_type": "markdown",
   "id": "fe0cd328-31bc-4788-93cf-16b0acb03bb7",
   "metadata": {},
   "source": [
    "### 7. Train & Evaluate Models"
   ]
  },
  {
   "cell_type": "code",
   "execution_count": 10,
   "id": "079ec5f0-7f57-416a-8610-ec2eefd87e90",
   "metadata": {},
   "outputs": [
    {
     "name": "stdout",
     "output_type": "stream",
     "text": [
      "\n",
      "Training LogisticRegression...\n",
      "LogisticRegression ROC-AUC: 0.9707\n",
      "              precision    recall  f1-score   support\n",
      "\n",
      "           0     0.9999    0.9732    0.9864     56864\n",
      "           1     0.0558    0.9184    0.1053        98\n",
      "\n",
      "    accuracy                         0.9731     56962\n",
      "   macro avg     0.5278    0.9458    0.5458     56962\n",
      "weighted avg     0.9982    0.9731    0.9848     56962\n",
      "\n",
      "\n",
      "Training RandomForest...\n",
      "RandomForest ROC-AUC: 0.9729\n",
      "              precision    recall  f1-score   support\n",
      "\n",
      "           0     0.9997    0.9998    0.9997     56864\n",
      "           1     0.8495    0.8061    0.8272        98\n",
      "\n",
      "    accuracy                         0.9994     56962\n",
      "   macro avg     0.9246    0.9029    0.9135     56962\n",
      "weighted avg     0.9994    0.9994    0.9994     56962\n",
      "\n"
     ]
    }
   ],
   "source": [
    "results = {}\n",
    "for name, pipeline in models.items():\n",
    "    print(f\"\\nTraining {name}...\")\n",
    "    pipeline.fit(X_train, y_train)\n",
    "    \n",
    "    y_pred = pipeline.predict(X_test)\n",
    "    y_proba = pipeline.predict_proba(X_test)[:,1]\n",
    "    \n",
    "    roc = roc_auc_score(y_test, y_proba)\n",
    "    report = classification_report(y_test, y_pred, output_dict=True)\n",
    "    \n",
    "    results[name] = {\"pipeline\": pipeline, \"roc_auc\": roc, \"report\": report}\n",
    "    print(f\"{name} ROC-AUC: {roc:.4f}\")\n",
    "    print(classification_report(y_test, y_pred, digits=4))\n"
   ]
  },
  {
   "cell_type": "markdown",
   "id": "8793a742-647d-411b-9054-9557291635fb",
   "metadata": {},
   "source": [
    "**Models trained:**\n",
    "\n",
    "- **Logistic Regression (SMOTE)**:\n",
    "  - ROC-AUC = 0.9707\n",
    "  - Precision (fraud) = 0.0558 → many false positives\n",
    "  - Recall (fraud) = 0.9184 → most frauds detected\n",
    "  - F1-score (fraud) = 0.1053 → low due to poor precision\n",
    "\n",
    "- **Random Forest (SMOTE)**:\n",
    "  - ROC-AUC = 0.9729 → best overall\n",
    "  - Precision (fraud) = 0.8495 → few false positives\n",
    "  - Recall (fraud) = 0.8061 → most frauds detected\n",
    "  - F1-score (fraud) = 0.8272 → strong balance"
   ]
  },
  {
   "cell_type": "markdown",
   "id": "d7d41568-d632-4f15-8872-e3d49ab542d4",
   "metadata": {},
   "source": [
    "**Inference:**\n",
    "\n",
    "Logistic Regression is sensitive but produces many false alarms.\n",
    "\n",
    "Random Forest balances fraud detection and false positives better, making it the best choice."
   ]
  },
  {
   "cell_type": "markdown",
   "id": "c9ec498b-ad06-4272-bde9-6bc9149f5652",
   "metadata": {},
   "source": [
    "### 8. Select Best Model"
   ]
  },
  {
   "cell_type": "code",
   "execution_count": 11,
   "id": "cd36799f-366d-4518-8f3d-0a8b4ba2eada",
   "metadata": {},
   "outputs": [
    {
     "name": "stdout",
     "output_type": "stream",
     "text": [
      "\n",
      "Best model: RandomForest (ROC-AUC=0.9729)\n"
     ]
    }
   ],
   "source": [
    "best_name = max(results, key=lambda n: results[n]['roc_auc'])\n",
    "best_model = results[best_name]['pipeline']\n",
    "print(f\"\\nBest model: {best_name} (ROC-AUC={results[best_name]['roc_auc']:.4f})\")"
   ]
  },
  {
   "cell_type": "markdown",
   "id": "3b743902-90cc-44a0-8e22-f68a6d861b9f",
   "metadata": {},
   "source": [
    "- Best model selected based on **ROC-AUC**: Random Forest (ROC-AUC = 0.9729)\n",
    "- This model effectively discriminates between fraud and legit transactions."
   ]
  },
  {
   "cell_type": "markdown",
   "id": "ed99345f-f047-46d1-85de-0207812041c4",
   "metadata": {},
   "source": [
    "### 9. Evaluate Best Model"
   ]
  },
  {
   "cell_type": "code",
   "execution_count": 12,
   "id": "13b8e18e-0fb8-4394-9ca2-2f8890a27c9e",
   "metadata": {},
   "outputs": [
    {
     "data": {
      "image/png": "[encoded data removed]",
      "text/plain": [
       "<Figure size 500x400 with 2 Axes>"
      ]
     },
     "metadata": {},
     "output_type": "display_data"
    },
    {
     "data": {
      "image/png": "[encoded data removed]",
      "text/plain": [
       "<Figure size 1200x500 with 2 Axes>"
      ]
     },
     "metadata": {},
     "output_type": "display_data"
    },
    {
     "name": "stdout",
     "output_type": "stream",
     "text": [
      "Precision: 0.8495, Recall: 0.8061, F1-score: 0.8272\n"
     ]
    }
   ],
   "source": [
    "y_pred = best_model.predict(X_test)\n",
    "y_proba = best_model.predict_proba(X_test)[:,1]\n",
    "\n",
    "# Confusion Matrix\n",
    "cm = confusion_matrix(y_test, y_pred)\n",
    "plt.figure(figsize=(5,4))\n",
    "sns.heatmap(cm, annot=True, fmt='d', cmap='Blues')\n",
    "plt.xlabel(\"Predicted\")\n",
    "plt.ylabel(\"Actual\")\n",
    "plt.title(\"Confusion Matrix\")\n",
    "plt.show()\n",
    "\n",
    "# ROC Curve\n",
    "plt.figure(figsize=(12,5))\n",
    "plt.subplot(1,2,1)\n",
    "ax1 = plt.gca()  # get current axis\n",
    "RocCurveDisplay.from_predictions(y_test, y_proba, ax=ax1)\n",
    "plt.title(f\"ROC Curve ({best_name})\")\n",
    "\n",
    "# Precision-Recall Curve\n",
    "plt.subplot(1,2,2)\n",
    "ax2 = plt.gca()  # get current axis\n",
    "prec, recall, _ = precision_recall_curve(y_test, y_proba)\n",
    "pr_auc = auc(recall, prec)\n",
    "PrecisionRecallDisplay(precision=prec, recall=recall).plot(ax=ax2)\n",
    "plt.title(f\"Precision-Recall Curve (AUC={pr_auc:.4f})\")\n",
    "plt.tight_layout()\n",
    "plt.show()\n",
    "\n",
    "# Metrics\n",
    "precision = precision_score(y_test, y_pred)\n",
    "recall = recall_score(y_test, y_pred)\n",
    "f1 = f1_score(y_test, y_pred)\n",
    "print(f\"Precision: {precision:.4f}, Recall: {recall:.4f}, F1-score: {f1:.4f}\")\n"
   ]
  },
  {
   "cell_type": "markdown",
   "id": "1f1e71ff-e3ca-480e-ab67-ca99087ab318",
   "metadata": {},
   "source": [
    "**Evaluation on test set:**\n",
    "\n",
    "- **Confusion Matrix:** shows true vs predicted classes\n",
    "- **ROC Curve:** model discrimination ability\n",
    "- **Precision-Recall Curve:** especially useful for imbalanced datasets\n",
    "- **Metrics:**\n",
    "  - Precision = 0.8404 → high, few false alarms\n",
    "  - Recall = 0.8061 → good, most frauds detected\n",
    "  - F1-score = 0.8229 → balanced performance"
   ]
  },
  {
   "cell_type": "markdown",
   "id": "d3d65a98-7181-4f61-893f-df9af29d419a",
   "metadata": {},
   "source": [
    "### 10. Save Model\n",
    "The trained Random Forest model is saved to `final_fraud_model.pkl` using `joblib` for later use or deployment."
   ]
  },
  {
   "cell_type": "code",
   "execution_count": 13,
   "id": "35e7a15f-285b-4927-827a-6efffcedd5cb",
   "metadata": {},
   "outputs": [
    {
     "name": "stdout",
     "output_type": "stream",
     "text": [
      "Saved model to final_fraud_model.pkl\n"
     ]
    }
   ],
   "source": [
    "joblib.dump(best_model, MODEL_OUTPUT)\n",
    "print(f\"Saved model to {MODEL_OUTPUT}\")"
   ]
  },
  {
   "cell_type": "markdown",
   "id": "fd4e983c-c573-45a8-bc62-439ae5c2c08a",
   "metadata": {},
   "source": [
    "### 11. Prediction Function"
   ]
  },
  {
   "cell_type": "markdown",
   "id": "1d1fbefa-b6cd-484c-aa4a-83bfbdfce1d3",
   "metadata": {},
   "source": [
    "**Function `predict_transaction`:**\n",
    "\n",
    "- Inputs:\n",
    "  - `model_path`: path to saved model\n",
    "  - `X_new`: new transaction data\n",
    "  - `threshold`: probability threshold to classify as fraud\n",
    "\n",
    "- Outputs:\n",
    "  - `preds`: predicted classes (0=legit, 1=fraud)\n",
    "  - `proba`: predicted probability of fraud"
   ]
  },
  {
   "cell_type": "code",
   "execution_count": 16,
   "id": "3af059c1-5a4b-4096-b8e8-2f60d4f2c508",
   "metadata": {},
   "outputs": [
    {
     "name": "stdout",
     "output_type": "stream",
     "text": [
      "\n",
      "Example predictions (threshold=0.4):\n",
      "Predicted classes: [0 0 0 0 0]\n",
      "Fraud probabilities: [0.   0.   0.02 0.   0.  ]\n"
     ]
    }
   ],
   "source": [
    "def predict_transaction(model_path, X_new, threshold=0.5):\n",
    "    \"\"\"\n",
    "    Predict fraud probabilities for new transactions.\n",
    "    \n",
    "    Args:\n",
    "        model_path (str): path to saved model\n",
    "        X_new (DataFrame): new transaction data\n",
    "        threshold (float): threshold to classify as fraud\n",
    "    \n",
    "    Returns:\n",
    "        predictions (np.array): binary fraud predictions\n",
    "        probabilities (np.array): fraud probabilities\n",
    "    \"\"\"\n",
    "    model = joblib.load(model_path)\n",
    "    proba = model.predict_proba(X_new)[:,1]\n",
    "    preds = (proba >= threshold).astype(int)\n",
    "    return preds, proba\n",
    "\n",
    "# Example usage\n",
    "preds, proba = predict_transaction(MODEL_OUTPUT, X_test.iloc[:5], threshold=0.4)\n",
    "print(\"\\nExample predictions (threshold=0.4):\")\n",
    "print(\"Predicted classes:\", preds)\n",
    "print(\"Fraud probabilities:\", proba)"
   ]
  },
  {
   "cell_type": "markdown",
   "id": "eebf70f6-d3dc-407c-9f5b-9b262d9273d4",
   "metadata": {},
   "source": [
    "**Example Usage:**\n",
    "- Threshold = 0.4\n",
    "- Predictions and probabilities generated for first 5 test samples:\n",
    "\n",
    "Predicted classes: [0, 0, 0, 0, 0]  \n",
    "Fraud probabilities: [0.0, 0.0, 0.02, 0.0, 0.0]\n",
    "\n",
    "**Inference:**\n",
    "- Low probabilities are expected due to highly imbalanced dataset.\n",
    "- Threshold tuning is critical:\n",
    "  - Lower threshold → higher recall, more frauds detected\n",
    "  - Higher threshold → higher precision, fewer false positives"
   ]
  },
  {
   "cell_type": "markdown",
   "id": "87d7a2ad-4af1-4658-8b83-b5ead1ad507c",
   "metadata": {},
   "source": [
    "### 12. Key Takeaways\n",
    "1. **Random Forest with SMOTE** is the best model for this imbalanced credit card fraud dataset.\n",
    "2. Handling class imbalance is critical; accuracy alone is misleading.\n",
    "3. ROC-AUC and Precision-Recall curves are more informative metrics.\n",
    "4. Threshold tuning allows a trade-off between detecting frauds and avoiding false alarms.\n",
    "5. Saved model can be deployed for real-time fraud detection on new transactions."
   ]
  },
  {
   "cell_type": "code",
   "execution_count": null,
   "id": "fe252c92-2b1b-4663-866d-5b8529bf450e",
   "metadata": {},
   "outputs": [],
   "source": []
  }
 ],
 "metadata": {
  "kernelspec": {
   "display_name": "Python 3 (ipykernel)",
   "language": "python",
   "name": "python3"
  },
  "language_info": {
   "codemirror_mode": {
    "name": "ipython",
    "version": 3
   },
   "file_extension": ".py",
   "mimetype": "text/x-python",
   "name": "python",
   "nbconvert_exporter": "python",
   "pygments_lexer": "ipython3",
   "version": "3.13.5"
  }
 },
 "nbformat": 4,
 "nbformat_minor": 5
}
